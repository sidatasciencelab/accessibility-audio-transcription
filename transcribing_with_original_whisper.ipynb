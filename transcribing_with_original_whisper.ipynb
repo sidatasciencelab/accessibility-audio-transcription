{
 "cells": [
  {
   "cell_type": "code",
   "execution_count": 1,
   "metadata": {},
   "outputs": [
    {
     "name": "stdout",
     "output_type": "stream",
     "text": [
      "Fri Jun 16 12:17:07 2023       \n",
      "+-----------------------------------------------------------------------------+\n",
      "| NVIDIA-SMI 510.47.03    Driver Version: 510.47.03    CUDA Version: 11.6     |\n",
      "|-------------------------------+----------------------+----------------------+\n",
      "| GPU  Name        Persistence-M| Bus-Id        Disp.A | Volatile Uncorr. ECC |\n",
      "| Fan  Temp  Perf  Pwr:Usage/Cap|         Memory-Usage | GPU-Util  Compute M. |\n",
      "|                               |                      |               MIG M. |\n",
      "|===============================+======================+======================|\n",
      "|   0  Quadro GV100        On   | 00000000:3B:00.0 Off |                  Off |\n",
      "| 29%   34C    P2    25W / 250W |      2MiB / 32768MiB |      0%      Default |\n",
      "|                               |                      |                  N/A |\n",
      "+-------------------------------+----------------------+----------------------+\n",
      "|   1  Quadro GV100        On   | 00000000:AF:00.0 Off |                  Off |\n",
      "| 29%   31C    P2    24W / 250W |      2MiB / 32768MiB |      0%      Default |\n",
      "|                               |                      |                  N/A |\n",
      "+-------------------------------+----------------------+----------------------+\n",
      "                                                                               \n",
      "+-----------------------------------------------------------------------------+\n",
      "| Processes:                                                                  |\n",
      "|  GPU   GI   CI        PID   Type   Process name                  GPU Memory |\n",
      "|        ID   ID                                                   Usage      |\n",
      "|=============================================================================|\n",
      "|  No running processes found                                                 |\n",
      "+-----------------------------------------------------------------------------+\n"
     ]
    }
   ],
   "source": [
    "!nvidia-smi"
   ]
  },
  {
   "cell_type": "code",
   "execution_count": 2,
   "metadata": {},
   "outputs": [],
   "source": [
    "import whisper"
   ]
  },
  {
   "cell_type": "code",
   "execution_count": 6,
   "metadata": {},
   "outputs": [
    {
     "name": "stderr",
     "output_type": "stream",
     "text": [
      "100%|████████████████████████████████████████| 461M/461M [00:03<00:00, 134MiB/s]\n"
     ]
    }
   ],
   "source": [
    "model = whisper.load_model(\"small\")"
   ]
  },
  {
   "cell_type": "code",
   "execution_count": 7,
   "metadata": {},
   "outputs": [
    {
     "data": {
      "text/plain": [
       "device(type='cuda', index=0)"
      ]
     },
     "execution_count": 7,
     "metadata": {},
     "output_type": "execute_result"
    }
   ],
   "source": [
    "model.device"
   ]
  },
  {
   "cell_type": "code",
   "execution_count": 8,
   "metadata": {},
   "outputs": [],
   "source": [
    "test_file = 'audio_files/CFCH-SFF_2014_0629_China_Teahouse_Commons_0004-000001.mp3'"
   ]
  },
  {
   "cell_type": "code",
   "execution_count": 10,
   "metadata": {},
   "outputs": [],
   "source": [
    "result = model.transcribe(test_file)"
   ]
  },
  {
   "cell_type": "code",
   "execution_count": 12,
   "metadata": {},
   "outputs": [
    {
     "data": {
      "text/plain": [
       "dict_keys(['text', 'segments', 'language'])"
      ]
     },
     "execution_count": 12,
     "metadata": {},
     "output_type": "execute_result"
    }
   ],
   "source": [
    "result.keys()"
   ]
  },
  {
   "cell_type": "code",
   "execution_count": 14,
   "metadata": {},
   "outputs": [
    {
     "data": {
      "text/plain": [
       "'en'"
      ]
     },
     "execution_count": 14,
     "metadata": {},
     "output_type": "execute_result"
    }
   ],
   "source": [
    "result['language']"
   ]
  },
  {
   "cell_type": "code",
   "execution_count": 17,
   "metadata": {},
   "outputs": [
    {
     "data": {
      "text/plain": [
       "[{'id': 0,\n",
       "  'seek': 0,\n",
       "  'start': 0.0,\n",
       "  'end': 6.32,\n",
       "  'text': \" Hello, hello everyone. We're getting set up for our next session in tea house comments. You are in the\",\n",
       "  'tokens': [50364,\n",
       "   2425,\n",
       "   11,\n",
       "   7751,\n",
       "   1518,\n",
       "   13,\n",
       "   492,\n",
       "   434,\n",
       "   1242,\n",
       "   992,\n",
       "   493,\n",
       "   337,\n",
       "   527,\n",
       "   958,\n",
       "   5481,\n",
       "   294,\n",
       "   5817,\n",
       "   1782,\n",
       "   3053,\n",
       "   13,\n",
       "   509,\n",
       "   366,\n",
       "   294,\n",
       "   264,\n",
       "   50680],\n",
       "  'temperature': 0.0,\n",
       "  'avg_logprob': -0.2328581220648262,\n",
       "  'compression_ratio': 1.6395348837209303,\n",
       "  'no_speech_prob': 0.16855116188526154},\n",
       " {'id': 1,\n",
       "  'seek': 0,\n",
       "  'start': 7.04,\n",
       "  'end': 10.88,\n",
       "  'text': ' China program of the 2014 Smithsonian Folklife Festival',\n",
       "  'tokens': [50716,\n",
       "   3533,\n",
       "   1461,\n",
       "   295,\n",
       "   264,\n",
       "   8227,\n",
       "   46013,\n",
       "   15255,\n",
       "   7837,\n",
       "   863,\n",
       "   16512,\n",
       "   50908],\n",
       "  'temperature': 0.0,\n",
       "  'avg_logprob': -0.2328581220648262,\n",
       "  'compression_ratio': 1.6395348837209303,\n",
       "  'no_speech_prob': 0.16855116188526154}]"
      ]
     },
     "execution_count": 17,
     "metadata": {},
     "output_type": "execute_result"
    }
   ],
   "source": [
    "result['segments'][:2]"
   ]
  },
  {
   "cell_type": "code",
   "execution_count": 19,
   "metadata": {},
   "outputs": [],
   "source": [
    "from whisper.utils import get_writer"
   ]
  },
  {
   "cell_type": "code",
   "execution_count": 20,
   "metadata": {},
   "outputs": [],
   "source": [
    "writer = get_writer('vtt', 'whisper_small_vtt')"
   ]
  },
  {
   "cell_type": "code",
   "execution_count": 28,
   "metadata": {},
   "outputs": [],
   "source": [
    "writer(result, test_file,{'word_timestamp':False,\n",
    "                          'max_line_width':None,\n",
    "                          'max_line_count':None,\n",
    "                          'highlight_words':False})"
   ]
  },
  {
   "cell_type": "code",
   "execution_count": null,
   "metadata": {},
   "outputs": [],
   "source": []
  }
 ],
 "metadata": {
  "kernelspec": {
   "display_name": "Python 3 (ipykernel)",
   "language": "python",
   "name": "python3"
  },
  "language_info": {
   "codemirror_mode": {
    "name": "ipython",
    "version": 3
   },
   "file_extension": ".py",
   "mimetype": "text/x-python",
   "name": "python",
   "nbconvert_exporter": "python",
   "pygments_lexer": "ipython3",
   "version": "3.10.11"
  }
 },
 "nbformat": 4,
 "nbformat_minor": 4
}
