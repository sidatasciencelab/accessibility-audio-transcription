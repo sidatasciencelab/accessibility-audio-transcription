{
 "cells": [
  {
   "cell_type": "code",
   "execution_count": 2,
   "id": "04ad563b-ece3-4437-a3f9-2d60b84e83cf",
   "metadata": {},
   "outputs": [],
   "source": [
    "import webvtt\n",
    "from pathlib import Path\n",
    "import pandas as pd"
   ]
  },
  {
   "cell_type": "code",
   "execution_count": 10,
   "id": "22564cc9-a1d6-431f-a83d-9f90ed7a7900",
   "metadata": {},
   "outputs": [
    {
     "data": {
      "text/plain": [
       "WindowsPath('original_vtt_files/CFCH-SFF2016_0630_SOCA_Stage_and_Plaza_0006.vtt')"
      ]
     },
     "execution_count": 10,
     "metadata": {},
     "output_type": "execute_result"
    }
   ],
   "source": [
    "orig_dir = Path('original_vtt_files')\n",
    "orig_files = [file for file in orig_dir.rglob('*.vtt')]\n",
    "orig_files[0]"
   ]
  },
  {
   "cell_type": "code",
   "execution_count": 12,
   "id": "68fc353a-88ac-4c78-a5fb-a1f995e8b70e",
   "metadata": {},
   "outputs": [],
   "source": [
    "for vtt_file in orig_files:\n",
    "    caption_list = []\n",
    "    for caption in webvtt.read(vtt_file):\n",
    "        table_row = {'start': caption.start_in_seconds,\n",
    "                     'end': caption.end_in_seconds,\n",
    "                     'original_text': caption.raw_text}\n",
    "        caption_list.append(table_row)\n",
    "    caption_df = pd.DataFrame(caption_list)\n",
    "    tsv_filepath = Path('original_vtt_files_tsv') / f'{vtt_file.stem}.tsv'\n",
    "    caption_df.to_csv(tsv_filepath, index=False, sep='\\t')"
   ]
  },
  {
   "cell_type": "code",
   "execution_count": 15,
   "id": "957f13ec-fb89-43be-ac93-ac16bcf2d3fa",
   "metadata": {},
   "outputs": [],
   "source": [
    "for vtt_file in orig_files:\n",
    "    txt_filepath = Path('text_output') / f'{vtt_file.stem}.txt'\n",
    "    with open(txt_filepath,'w', encoding='utf-8') as txt_out:\n",
    "        for caption in webvtt.read(vtt_file):\n",
    "            txt_out.write(caption.raw_text)\n",
    "            txt_out.write('\\n')"
   ]
  },
  {
   "cell_type": "code",
   "execution_count": null,
   "id": "98344672-7219-4a15-9fec-f404ed2cc3a8",
   "metadata": {},
   "outputs": [],
   "source": []
  }
 ],
 "metadata": {
  "kernelspec": {
   "display_name": "Python 3 (ipykernel)",
   "language": "python",
   "name": "python3"
  },
  "language_info": {
   "codemirror_mode": {
    "name": "ipython",
    "version": 3
   },
   "file_extension": ".py",
   "mimetype": "text/x-python",
   "name": "python",
   "nbconvert_exporter": "python",
   "pygments_lexer": "ipython3",
   "version": "3.10.9"
  }
 },
 "nbformat": 4,
 "nbformat_minor": 5
}
