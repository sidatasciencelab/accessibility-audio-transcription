{
 "cells": [
  {
   "cell_type": "code",
   "execution_count": 4,
   "metadata": {},
   "outputs": [],
   "source": [
    "import pandas as pd\n",
    "import json"
   ]
  },
  {
   "cell_type": "code",
   "execution_count": 8,
   "metadata": {},
   "outputs": [
    {
     "name": "stdout",
     "output_type": "stream",
     "text": [
      "[\n",
      "  {\n",
      "    \"Project Name*\": \"Folklife Festival Narrative Session: Cross Program-Diaspora\",\n",
      "    \"Import Type*\": 7,\n",
      "    \"Import Query*\": \"https://www.si.edu/media/CFCH/CFCH-SFF_2014_0629_China_Teahouse_Commons_0006-000001.mp3\",\n",
      "    \"XML Slideshows\": \"-\",\n",
      "    \"Owner*\": \"Ralph Rinzler Folklife Archives and Collections\",\n",
      "    \"Template*\": \"Sound Transcription\",\n",
      "    \"Parent Project\": NaN,\n",
      "    \"Catalogue Record*\": \"ead_component:sova-cfch-sff-2014-ref663\",\n",
      "    \"Project Image\": NaN,\n",
      "    \"Project Summary\": \"In a conversation facilitated by James Early,  Raymond Wong and Gathoni Kamau discuss their experience as part of the Chinese and Kenyan diasporas in the United States. Ms. Kamau lived her formative years in Nairobi, Kenya, and pursued higher education as an adult in the U.S. She considers her dual identities as a Kenyan and African American, as a critical part of her experiences, whether she is in Nairobi or D.C. Raymond Wong's family has been in the US for three generations, and though he grew up in here, he tries to maintain his Chinese heritage, teachings, and practices. As James Early says, \\\"Culture travels with you no matter what your passport says.\\\" This  narrative session was part of the China: Tradition and the Art of Living and Kenya: Mambo Poa programs at the 2014 Smithsonian Folklife Festival. <a href=\\\"https://sova.si.edu/details/CFCH.SFF.2014#ref18\\\">See the finding aid for more info on this program and participant names here</a>\",\n",
      "    \"Project Description\": \"In a conversation facilitated by James Early,  Raymond Wong and Gathoni Kamau discuss their experience as part of the Chinese and Kenyan diasporas in the United States. Ms. Kamau lived her formative years in Nairobi, Kenya, and pursued higher education as an adult in the U.S. She considers her dual identities as a Kenyan and African American, as a critical part of her experiences, whether she is in Nairobi or D.C. Raymond Wong's family has been in the US for three generations, and though he grew up in here, he tries to maintain his Chinese heritage, teachings, and practices. As James Early says, \\\"Culture travels with you no matter what your passport says.\\\" This  narrative session was part of the China: Tradition and the Art of Living and Kenya: Mambo Poa programs at the 2014 Smithsonian Folklife Festival. <a href=\\\"https://sova.si.edu/details/CFCH.SFF.2014#ref18\\\">See the finding aid for more info on this program and participant names here</a>\",\n",
      "    \"Admin Notes\": NaN,\n",
      "    \"Themes\": \"Audio Collections|World Cultures|American Experience\"\n",
      "  },\n",
      "  {\n",
      "    \"Project Name*\": \"Folklife Festival Narrative Session: Sweet & Sour: Chinese Food in America with Cedric Yeh\",\n",
      "    \"Import Type*\": 7,\n",
      "    \"Import Query*\": \"https://www.si.edu/media/CFCH/CFCH-SFF_2014_0629_China_Teahouse_Commons_0007-000001.mp3\",\n",
      "    \"XML Slideshows\": \"-\",\n",
      "    \"Owner*\": \"Ralph Rinzler Folklife Archives and Collections\",\n",
      "    \"Template*\": \"Sound Transcription\",\n",
      "    \"Parent Project\": NaN,\n",
      "    \"Catalogue Record*\": \"ead_component:sova-cfch-sff-2014-ref664\",\n",
      "    \"Project Image\": NaN,\n",
      "    \"Project Summary\": \"In a conversation facilitated by James Deustch, Adriel Luis and Cedric Yeh discuss Chinese food in America. Due to the Exclusion Act of 1882, Chinese people that arrived in the United States were limited to working in certain service sectors, serving both their own communities as well as the needs and interests of non-Chinese people. Over the years, Chinese food has become a part of American culture, with the food gradually formulated and catered to an American palate. As American culture spread around the world, part of that included American Chinese cuisine, thus, Chinese food can be viewed as a timeline on immigration patterns. It also represents a constant interaction and negotiation between proprieters and consumers. This narrative session was part of the China: Tradition and the Art of Living program at the  2014 Smithsonian Folklife Festival. <a href=\\\"https://sova.si.edu/details/CFCH.SFF.2014#ref18\\\">See the finding aid for more info on this program and participant names here</a>\",\n",
      "    \"Project Description\": \"In a conversation facilitated by James Deustch, Adriel Luis and Cedric Yeh discuss Chinese food in America. Due to the Exclusion Act of 1882, Chinese people that arrived in the United States were limited to working in certain service sectors, serving both their own communities as well as the needs and interests of non-Chinese people. Over the years, Chinese food has become a part of American culture, with the food gradually formulated and catered to an American palate. As American culture spread around the world, part of that included American Chinese cuisine, thus, Chinese food can be viewed as a timeline on immigration patterns. It also represents a constant interaction and negotiation between proprieters and consumers. This narrative session was part of the China: Tradition and the Art of Living program at the  2014 Smithsonian Folklife Festival. <a href=\\\"https://sova.si.edu/details/CFCH.SFF.2014#ref18\\\">See the finding aid for more info on this program and participant names here</a>\",\n",
      "    \"Admin Notes\": NaN,\n",
      "    \"Themes\": \"Audio Collections|World Cultures|American Experience\"\n",
      "  }\n",
      "]\n"
     ]
    }
   ],
   "source": [
    "file_df = pd.read_csv('CFCH_bulk_import_APAHM.csv')\n",
    "print(json.dumps(file_df.head(2).to_dict(orient='records'),\n",
    "                 indent=2))"
   ]
  },
  {
   "cell_type": "code",
   "execution_count": 9,
   "metadata": {},
   "outputs": [],
   "source": [
    "import requests"
   ]
  },
  {
   "cell_type": "code",
   "execution_count": 15,
   "metadata": {},
   "outputs": [
    {
     "data": {
      "text/plain": [
       "['https://www.si.edu/media/CFCH/CFCH-SFF_2014_0629_China_Teahouse_Commons_0006-000001.mp3',\n",
       " 'https://www.si.edu/media/CFCH/CFCH-SFF_2014_0629_China_Teahouse_Commons_0007-000001.mp3',\n",
       " 'https://www.si.edu/media/CFCH/CFCH-SFF2016_0630_SOCA_Stage_and_Plaza_0006.mp3',\n",
       " 'https://www.si.edu/media/CFCH/CFCH-SFF2016_0701_SOCA_The_Studio_0001.mp3',\n",
       " 'https://www.si.edu/media/CFCH/CFCH-SFF2016_0701_SOCA_The_Studio_0005.mp3',\n",
       " 'https://www.si.edu/media/CFCH/CFCH-SFF2016_0703_OTM_OTM_0001.mp3',\n",
       " 'https://www.si.edu/media/CFCH/CFCH-SFF2016_0708_OTM_OTM_0001.mp3',\n",
       " 'https://www.si.edu/media/CFCH/CFCH-SFF2017_0706_OTM_Jubilee_Stage_0004.mp3',\n",
       " 'https://www.si.edu/media/CFCH/CFCH-SFF2017_0630_OTM_Story_Circle_0004.mp3',\n",
       " 'https://www.si.edu/media/CFCH/CFCH-SFF2017_0630_OTM_Story_Circle_0006.mp3',\n",
       " 'https://www.si.edu/media/CFCH/CFCH-SFF2017_0702_OTM_Story_Circle_0004.mp3',\n",
       " 'https://www.si.edu/media/CFCH/CFCH-SFF2017_0703_OTM_Story_Circle_0005.mp3',\n",
       " 'https://www.si.edu/media/CFCH/CFCH-SFF2017_0704_OTM_Story_Circle_0005.mp3',\n",
       " 'https://www.si.edu/media/CFCH/CFCH-SFF_2014_0629_China_Teahouse_Commons_0004-000001.mp3']"
      ]
     },
     "execution_count": 15,
     "metadata": {},
     "output_type": "execute_result"
    }
   ],
   "source": [
    "mp3_url_list = file_df['Import Query*'].tolist()\n",
    "mp3_url_list"
   ]
  },
  {
   "cell_type": "code",
   "execution_count": 13,
   "metadata": {},
   "outputs": [],
   "source": [
    "from urllib.parse import urlparse\n",
    "import os"
   ]
  },
  {
   "cell_type": "code",
   "execution_count": 16,
   "metadata": {},
   "outputs": [
    {
     "data": {
      "text/plain": [
       "'CFCH-SFF_2014_0629_China_Teahouse_Commons_0006-000001.mp3'"
      ]
     },
     "execution_count": 16,
     "metadata": {},
     "output_type": "execute_result"
    }
   ],
   "source": [
    "test_url = mp3_url_list[0]\n",
    "filename = os.path.basename(urlparse(test_url).path)\n",
    "filename"
   ]
  },
  {
   "cell_type": "code",
   "execution_count": 23,
   "metadata": {},
   "outputs": [],
   "source": [
    "for mp3_url in mp3_url_list:\n",
    "    mp3_filebase = os.path.basename(urlparse(mp3_url).path)\n",
    "    mp3_filepath = os.path.join('audio_files', mp3_filebase)\n",
    "    response = requests.get(mp3_url)\n",
    "    if response.status_code == 200:\n",
    "        with open(mp3_filepath, 'wb') as file:\n",
    "            file.write(response.content)\n",
    "\n",
    "    vtt_url = mp3_url[:-3] + 'vtt'\n",
    "    vtt_filebase = os.path.basename(urlparse(vtt_url).path)\n",
    "    vtt_filepath = os.path.join('original_vtt_files', vtt_filebase)\n",
    "    response = requests.get(vtt_url)\n",
    "    if response.status_code == 200:\n",
    "        with open(vtt_filepath, 'wb') as file:\n",
    "            file.write(response.content)"
   ]
  },
  {
   "cell_type": "code",
   "execution_count": 26,
   "metadata": {},
   "outputs": [
    {
     "name": "stdout",
     "output_type": "stream",
     "text": [
      "total 636M\n",
      "-rw-r--r-- 1 triznam triznam 39M Jun 16 11:56 CFCH-SFF_2014_0629_China_Teahouse_Commons_0004-000001.mp3\n",
      "-rw-r--r-- 1 triznam triznam 50M Jun 16 11:56 CFCH-SFF_2014_0629_China_Teahouse_Commons_0006-000001.mp3\n",
      "-rw-r--r-- 1 triznam triznam 37M Jun 16 11:56 CFCH-SFF_2014_0629_China_Teahouse_Commons_0007-000001.mp3\n",
      "-rw-r--r-- 1 triznam triznam 42M Jun 16 11:56 CFCH-SFF2016_0630_SOCA_Stage_and_Plaza_0006.mp3\n",
      "-rw-r--r-- 1 triznam triznam 53M Jun 16 11:56 CFCH-SFF2016_0701_SOCA_The_Studio_0001.mp3\n",
      "-rw-r--r-- 1 triznam triznam 66M Jun 16 11:56 CFCH-SFF2016_0701_SOCA_The_Studio_0005.mp3\n",
      "-rw-r--r-- 1 triznam triznam 45M Jun 16 11:56 CFCH-SFF2016_0703_OTM_OTM_0001.mp3\n",
      "-rw-r--r-- 1 triznam triznam 50M Jun 16 11:56 CFCH-SFF2016_0708_OTM_OTM_0001.mp3\n",
      "-rw-r--r-- 1 triznam triznam 38M Jun 16 11:56 CFCH-SFF2017_0630_OTM_Story_Circle_0004.mp3\n",
      "-rw-r--r-- 1 triznam triznam 41M Jun 16 11:56 CFCH-SFF2017_0630_OTM_Story_Circle_0006.mp3\n",
      "-rw-r--r-- 1 triznam triznam 38M Jun 16 11:56 CFCH-SFF2017_0702_OTM_Story_Circle_0004.mp3\n",
      "-rw-r--r-- 1 triznam triznam 41M Jun 16 11:56 CFCH-SFF2017_0703_OTM_Story_Circle_0005.mp3\n",
      "-rw-r--r-- 1 triznam triznam 46M Jun 16 11:56 CFCH-SFF2017_0704_OTM_Story_Circle_0005.mp3\n",
      "-rw-r--r-- 1 triznam triznam 59M Jun 16 11:56 CFCH-SFF2017_0706_OTM_Jubilee_Stage_0004.mp3\n"
     ]
    }
   ],
   "source": [
    "!ls -lh audio_files"
   ]
  },
  {
   "cell_type": "code",
   "execution_count": null,
   "metadata": {},
   "outputs": [],
   "source": []
  }
 ],
 "metadata": {
  "kernelspec": {
   "display_name": "bhl_images",
   "language": "python",
   "name": "python3"
  },
  "language_info": {
   "codemirror_mode": {
    "name": "ipython",
    "version": 3
   },
   "file_extension": ".py",
   "mimetype": "text/x-python",
   "name": "python",
   "nbconvert_exporter": "python",
   "pygments_lexer": "ipython3",
   "version": "3.9.16"
  },
  "orig_nbformat": 4
 },
 "nbformat": 4,
 "nbformat_minor": 2
}
